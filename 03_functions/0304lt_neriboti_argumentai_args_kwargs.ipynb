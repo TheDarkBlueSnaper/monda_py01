{
 "cells": [
  {
   "cell_type": "markdown",
   "metadata": {},
   "source": [
    "# Neriboti argumentai `*args` ir `**kwargs`\n",
    "\n",
    "## `*args`\n",
    "\n",
    "- yra ypatingas Python sintaksės elementas, leidžiantis perduoti bet kokį pozicinio argumento skaičių į funkciją.\n",
    "- sukuria tuple iš visų perduotų pozicinių argumentų, kurią galima naudoti kaip bet kurią kitą tuplę.\n",
    "\n",
    "**Pavyzdys**:"
   ]
  },
  {
   "cell_type": "code",
   "execution_count": null,
   "metadata": {},
   "outputs": [],
   "source": [
    "def spausdinti_args(*args):\n",
    "    for arg in args:\n",
    "        print(arg)\n",
    "\n",
    "spausdinti_args(1, 2, 3, \"Labas\", \"Pasauli\")"
   ]
  },
  {
   "cell_type": "markdown",
   "metadata": {},
   "source": [
    "`Sumavimo` funkcijos pavyzdys naudojant `*args`:"
   ]
  },
  {
   "cell_type": "code",
   "execution_count": null,
   "metadata": {},
   "outputs": [],
   "source": [
    "def suma_reiksmiu(*args):\n",
    "    total = 0\n",
    "    for number in args:\n",
    "        total += number\n",
    "    return total\n",
    "\n",
    "print(suma_reiksmiu(1, 2, 3))  # 6\n",
    "print(suma_reiksmiu(4, 5, 6, 7))  # 22"
   ]
  },
  {
   "cell_type": "markdown",
   "metadata": {},
   "source": [
    "Funkcija, kuri `sujungia` ir spausdina visus `*args` elementus:"
   ]
  },
  {
   "cell_type": "code",
   "execution_count": null,
   "metadata": {},
   "outputs": [],
   "source": [
    "def sujungti(*args):\n",
    "    sujungta = \"\"\n",
    "    for arg in args:\n",
    "        sujungta += str(arg)\n",
    "    print(sujungta)\n",
    "\n",
    "sujungti(\"Labas\", \" \", \"Pasauli\")  # Labas Pasauli\n",
    "sujungti(1, 2, 3, 4)  # 1234"
   ]
  },
  {
   "cell_type": "markdown",
   "metadata": {},
   "source": [
    "Funkcija, kuri `grąžina` visus `*args` elementus, kurie yra didesni už nurodytą skaičių:"
   ]
  },
  {
   "cell_type": "code",
   "execution_count": null,
   "metadata": {},
   "outputs": [],
   "source": [
    "def didesni_uz(skaicius, *args):\n",
    "    didesni_elementai = []\n",
    "    for arg in args:\n",
    "        if arg > skaicius:\n",
    "            didesni_elementai.append(arg)\n",
    "    return didesni_elementai\n",
    "\n",
    "print(didesni_uz(3, 1, 2, 3, 4, 5))  # [4, 5]\n",
    "print(didesni_uz(10, 1, 2, 3, 4, 5))  # []"
   ]
  },
  {
   "cell_type": "markdown",
   "metadata": {},
   "source": [
    "Funkcija, kuri `grąžina` kiekvieno `*args` elemento ilgį kaip sąrašą:"
   ]
  },
  {
   "cell_type": "code",
   "execution_count": null,
   "metadata": {},
   "outputs": [],
   "source": [
    "def eiluciu_ilgiai(*args):\n",
    "    ilgiai = []\n",
    "    for arg in args:\n",
    "        ilgis = len(str(arg))\n",
    "        ilgiai.append(ilgis)\n",
    "    return ilgiai\n",
    "\n",
    "print(eiluciu_ilgiai(\"Labas\", \"Pasauli\"))  # [5, 5]\n",
    "print(eiluciu_ilgiai(123, 4567, 89))  # [3, 4, 2]"
   ]
  },
  {
   "cell_type": "markdown",
   "metadata": {},
   "source": [
    "### Greita užduotis 1\n",
    "\n",
    "Sukurkite funkciją, kuri priima neribotą kiekį prekių kainų kaip argumentus, ir grąžina jų sumą."
   ]
  },
  {
   "cell_type": "code",
   "execution_count": null,
   "metadata": {},
   "outputs": [],
   "source": [
    "# jusu kodo vieta"
   ]
  },
  {
   "cell_type": "markdown",
   "metadata": {},
   "source": [
    "---\n",
    "\n",
    "## `**kwargs` - keyword arguments - neriboti vardiniai argumentai\n",
    "\n",
    "`**kwargs` yra dar vienas specialus Python sintaksės elementas, leidžiantis perduoti „rakto ir reikšmės“ rinkinį funkcijai kaip žodyną.\n",
    "\n",
    "Pavyzdys:"
   ]
  },
  {
   "cell_type": "code",
   "execution_count": null,
   "metadata": {},
   "outputs": [],
   "source": [
    "def spausdinti_viska(**kwargs):\n",
    "    for raktas, reiksme in kwargs.items():\n",
    "        print(f\"{raktas:>10}: {reiksme}\")\n",
    "\n",
    "spausdinti_viska(vardas=\"Jonas\", amžius=30, miestas=\"Londonas\")"
   ]
  },
  {
   "cell_type": "markdown",
   "metadata": {},
   "source": [
    "Funkcija pavadinimu \"`skaičiuoti`\", atspausdina `**products` elementų sąrašą ir susumuoja jų kainas. Taip pat demonstruojama, kad `**kwargs` gali būti pavadintas pagal jūsų pageidavimus."
   ]
  },
  {
   "cell_type": "code",
   "execution_count": null,
   "metadata": {},
   "outputs": [],
   "source": [
    "def skaiciuoti(**products):\n",
    "    total = 0\n",
    "    for produktas, kaina in products.items():\n",
    "        total += kaina\n",
    "        print(f\"{produktas:>20}: {kaina:>10.2f} €\")\n",
    "    print(f\"             Iš viso: {total:>10.2f} €\")\n",
    "\n",
    "skaiciuoti(pienukas=2, miltai=1, kiaušiniai=3)"
   ]
  },
  {
   "cell_type": "markdown",
   "metadata": {},
   "source": [
    "### Greita užduotis 2\n",
    "\n",
    "Parašykite Python funkciją, kuri priima neribotus raktinius argumentus, ir juos atspausdina po vieną naujoje eilutėje. Jeigu vardiniuose argumentuose yra vardas, el.paštas ir telefonas, juos turi spausdinti pirmiausia eilės tvarka.\n",
    "\n",
    "rezultato pavyzdys:\n",
    "\n",
    "```\n",
    "vardas: Jonas\n",
    "el. paštas: mano@info.lt\n",
    "telefonas: +370 1231234\n",
    "batų dydis: 47\n",
    "```"
   ]
  },
  {
   "cell_type": "code",
   "execution_count": null,
   "metadata": {},
   "outputs": [],
   "source": [
    "# jusu kodo vieta"
   ]
  },
  {
   "cell_type": "markdown",
   "metadata": {},
   "source": [
    "---\n",
    "\n",
    "## `*args` kartu su `**kwargs`\n",
    "\n",
    "Kai kuriose situacijose gali prireikti funkcijos, kuri priima tiek pozicinius argumentus, tiek argumentus, kurie nėra apibrėžti funkcijos deklaracijoje. Tokias funkcijas galima kurti naudojant `*args` ir `**kwargs` kartu su įprastais argumentais.\n",
    "\n",
    "**Pavyzdys**:"
   ]
  },
  {
   "cell_type": "code",
   "execution_count": null,
   "metadata": {},
   "outputs": [],
   "source": [
    "def asmens_info(vardas, *args, **kwargs):\n",
    "    print(f\"Vardas: {vardas}\")\n",
    "    print(f\"Bruožai: {', '.join(args)}\")\n",
    "    for raktas, reiksme in kwargs.items():\n",
    "        print(f\"{raktas}: {reiksme}\")\n",
    "\n",
    "asmens_info(\"Jonas\", \"linksmas\", \"draugiškas\", \"drąsus\", miestas=\"Londonas\", amžius=30)"
   ]
  },
  {
   "cell_type": "markdown",
   "metadata": {},
   "source": [
    "### Greita užduotis 3\n",
    "\n",
    "Parašykite funkciją, kuri priima bet kokį skaičių pozicinių argumentų (`*args`) ir \"raktai-reikšmės\" porų (`**kwargs`). Funkcija turi sujungti šiuos duomenis į vieną sąrašą ir jį grąžinti.\n",
    "\n",
    "```python\n",
    "# Rezultato pavyzdys:\n",
    "[1, 2, 3, ('vardas', 'Jonas'), ('amžius', 25), ('miestas', 'Vilnius')]\n",
    "```"
   ]
  },
  {
   "cell_type": "code",
   "execution_count": null,
   "metadata": {},
   "outputs": [],
   "source": [
    "# jusu kodo vieta"
   ]
  },
  {
   "cell_type": "markdown",
   "metadata": {},
   "source": [
    "## Papildoma užduotis\n",
    "\n",
    "Sukurkite Python funkciją pavadinimu `filtruoti_argumentus`, kuri priima bet kokį skaičių pozicinių argumentų (`*args`) ir \"raktai-reikšmės\" porų (`**kwargs`). \n",
    "\n",
    "Funkcija turi atlikti šiuos veiksmus:\n",
    "\n",
    "1. `Filtruoti` pozicinius argumentus (*args), paliekant tik tuos, kurie yra `skaičiai` (integers).\n",
    "1. `Filtruoti` raktus ir reikšmes (**kwargs), paliekant tik tuos, kurių raktas prasideda raidė '`a`' ir reikšmė yra stringas.\n",
    "1. `Grąžinkite` du sąrašus: viename bus likę poziciniai argumentai (`skaičiai`), o kitame `raktai-reikšmės` poros iš **kwargs.\n",
    "\n",
    "```python\n",
    "# Jusu funkcijos kvietimas\n",
    "rezultatai = filtruoti_argumentus(1, 'Jonas', 3, 5, amžius='25', miestas='Vilnius', adresas='Kaunas')\n",
    "# Atspausdinimas\n",
    "print(rezultatai)\n",
    "# Rezultato pavyzdys:\n",
    "([1, 3, 5], [('amžius': '25'), ('adresas': 'Vilnius')])\n",
    "```\n",
    "\n",
    "Pastaba: Patikrinkite, ar poziciniuose argumentuose yra skaičių tipų, o **kwargs filtravimas turi atsižvelgti į raktus ir reikšmes pagal sąlygas."
   ]
  },
  {
   "cell_type": "code",
   "execution_count": 3,
   "metadata": {},
   "outputs": [
    {
     "ename": "NameError",
     "evalue": "name 'lower' is not defined",
     "output_type": "error",
     "traceback": [
      "\u001b[1;31m---------------------------------------------------------------------------\u001b[0m",
      "\u001b[1;31mNameError\u001b[0m                                 Traceback (most recent call last)",
      "Cell \u001b[1;32mIn[3], line 13\u001b[0m\n\u001b[0;32m     10\u001b[0m     \u001b[38;5;28;01mif\u001b[39;00m lower(a[\u001b[38;5;241m0\u001b[39m]) \u001b[38;5;241m==\u001b[39m \u001b[38;5;124m'\u001b[39m\u001b[38;5;124ma\u001b[39m\u001b[38;5;124m'\u001b[39m:\n\u001b[0;32m     11\u001b[0m         kwargs_list\u001b[38;5;241m.\u001b[39mappend(kwargs)\n\u001b[1;32m---> 13\u001b[0m rezultatai \u001b[38;5;241m=\u001b[39m \u001b[43mfiltruoti_argumentus\u001b[49m\u001b[43m(\u001b[49m\u001b[38;5;241;43m1\u001b[39;49m\u001b[43m,\u001b[49m\u001b[43m \u001b[49m\u001b[38;5;124;43m'\u001b[39;49m\u001b[38;5;124;43mJonas\u001b[39;49m\u001b[38;5;124;43m'\u001b[39;49m\u001b[43m,\u001b[49m\u001b[43m \u001b[49m\u001b[38;5;241;43m3\u001b[39;49m\u001b[43m,\u001b[49m\u001b[43m \u001b[49m\u001b[38;5;241;43m5\u001b[39;49m\u001b[43m,\u001b[49m\u001b[43m \u001b[49m\u001b[43mamžius\u001b[49m\u001b[38;5;241;43m=\u001b[39;49m\u001b[38;5;124;43m'\u001b[39;49m\u001b[38;5;124;43m25\u001b[39;49m\u001b[38;5;124;43m'\u001b[39;49m\u001b[43m,\u001b[49m\u001b[43m \u001b[49m\u001b[43mmiestas\u001b[49m\u001b[38;5;241;43m=\u001b[39;49m\u001b[38;5;124;43m'\u001b[39;49m\u001b[38;5;124;43mVilnius\u001b[39;49m\u001b[38;5;124;43m'\u001b[39;49m\u001b[43m,\u001b[49m\u001b[43m \u001b[49m\u001b[43madresas\u001b[49m\u001b[38;5;241;43m=\u001b[39;49m\u001b[38;5;124;43m'\u001b[39;49m\u001b[38;5;124;43mKaunas\u001b[39;49m\u001b[38;5;124;43m'\u001b[39;49m\u001b[43m)\u001b[49m\n\u001b[0;32m     15\u001b[0m \u001b[38;5;66;03m# jusu kodo vieta\u001b[39;00m\n",
      "Cell \u001b[1;32mIn[3], line 10\u001b[0m, in \u001b[0;36mfiltruoti_argumentus\u001b[1;34m(*args, **kwargs)\u001b[0m\n\u001b[0;32m      8\u001b[0m kwargs_list \u001b[38;5;241m=\u001b[39m []\n\u001b[0;32m      9\u001b[0m a \u001b[38;5;241m=\u001b[39m kwargs\u001b[38;5;241m.\u001b[39mkeys\n\u001b[1;32m---> 10\u001b[0m \u001b[38;5;28;01mif\u001b[39;00m \u001b[43mlower\u001b[49m(a[\u001b[38;5;241m0\u001b[39m]) \u001b[38;5;241m==\u001b[39m \u001b[38;5;124m'\u001b[39m\u001b[38;5;124ma\u001b[39m\u001b[38;5;124m'\u001b[39m:\n\u001b[0;32m     11\u001b[0m     kwargs_list\u001b[38;5;241m.\u001b[39mappend(kwargs)\n",
      "\u001b[1;31mNameError\u001b[0m: name 'lower' is not defined"
     ]
    }
   ],
   "source": [
    "def filtruoti_argumentus(*args, **kwargs):\n",
    "    args_list = []\n",
    "    if args is int:\n",
    "        args_list.append(args)\n",
    "    else:\n",
    "        pass\n",
    "    \n",
    "    kwargs_list = []\n",
    "    a = kwargs.keys\n",
    "    if lower(a[0]) == 'a':\n",
    "        kwargs_list.append(kwargs)\n",
    "\n",
    "rezultatai = filtruoti_argumentus(1, 'Jonas', 3, 5, amžius='25', miestas='Vilnius', adresas='Kaunas')\n",
    "\n",
    "# jusu kodo vieta"
   ]
  },
  {
   "cell_type": "markdown",
   "metadata": {},
   "source": [
    "Taigi, `*args` leidžia perduoti neribotą kiekį pozicinių argumentų, o `**kwargs` leidžia perduoti neribotą kiekį rakšažodinių argumentų, susidedančių iš raktų ir reikšmių. Galima kombinuoti šiuos elementus su įprastais argumentais funkcijose, kad būtų gautas didesnis funkcionalumas ir lankstumas."
   ]
  }
 ],
 "metadata": {
  "kernelspec": {
   "display_name": "venv",
   "language": "python",
   "name": "python3"
  },
  "language_info": {
   "codemirror_mode": {
    "name": "ipython",
    "version": 3
   },
   "file_extension": ".py",
   "mimetype": "text/x-python",
   "name": "python",
   "nbconvert_exporter": "python",
   "pygments_lexer": "ipython3",
   "version": "3.12.1"
  }
 },
 "nbformat": 4,
 "nbformat_minor": 2
}
